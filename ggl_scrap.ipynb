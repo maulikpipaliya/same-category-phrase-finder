{
 "cells": [
  {
   "cell_type": "code",
   "execution_count": 1,
   "metadata": {},
   "outputs": [],
   "source": [
    "from urllib.request import urlopen\n",
    "import urllib\n",
    "from bs4 import BeautifulSoup"
   ]
  },
  {
   "cell_type": "code",
   "execution_count": 2,
   "metadata": {},
   "outputs": [],
   "source": [
    "def suggestions_by_keyword(user_query):\n",
    "    \n",
    "    search_text = { \"q\": user_query}\n",
    "    urllib.parse.urlencode(search_text)\n",
    "    final_url = \"https://www.google.com/search?\" + urllib.parse.urlencode(search_text)\n",
    "\n",
    "    \n",
    "    #https://support.google.com/webmasters/answer/1061943?hl=en\n",
    "    user_agent = 'Mozilla/5.0 (Macintosh; U; Intel Mac OS X 10_6_4; en-US) AppleWebKit/534.3 (KHTML, like Gecko) Chrome/6.0.472.63 Safari/534.3'\n",
    "    headers = { 'User-Agent' : user_agent }\n",
    "\n",
    "    req = urllib.request.Request(final_url, None, headers)\n",
    "\n",
    "    response = urlopen(req)\n",
    "    page = response.read()\n",
    "    response.close() \n",
    "\n",
    "    soup = BeautifulSoup(page,'html.parser')\n",
    "    cat = soup.find_all(\"div\",attrs={'class': \"wwUB2c\"})\n",
    "    for c in cat:\n",
    "        caa = c.find_all(\"span\")\n",
    "        cat = caa[0].text\n",
    "        \n",
    "    suggestions = soup.find_all(\"div\",attrs={'class': \"oBrLN\"})\n",
    "    \n",
    "    list_of_suggestions = []\n",
    "    for i in range(len(suggestions)):\n",
    "        list_of_suggestions.append(suggestions[i].text)\n",
    "    return cat,list_of_suggestions\n"
   ]
  },
  {
   "cell_type": "code",
   "execution_count": 4,
   "metadata": {},
   "outputs": [
    {
     "name": "stdout",
     "output_type": "stream",
     "text": [
      "Animal Cat\n"
     ]
    },
    {
     "data": {
      "text/plain": [
       "('Animal',\n",
       " ['Persian cat',\n",
       "  'Russian Blue',\n",
       "  'Bengal cat',\n",
       "  'British Shorthair',\n",
       "  'Maine Coon'])"
      ]
     },
     "execution_count": 4,
     "metadata": {},
     "output_type": "execute_result"
    }
   ],
   "source": [
    "suggestions_by_keyword(input())"
   ]
  },
  {
   "cell_type": "code",
   "execution_count": null,
   "metadata": {},
   "outputs": [],
   "source": []
  },
  {
   "cell_type": "code",
   "execution_count": null,
   "metadata": {},
   "outputs": [],
   "source": []
  },
  {
   "cell_type": "code",
   "execution_count": null,
   "metadata": {
    "collapsed": true
   },
   "outputs": [],
   "source": []
  },
  {
   "cell_type": "code",
   "execution_count": null,
   "metadata": {},
   "outputs": [],
   "source": []
  },
  {
   "cell_type": "code",
   "execution_count": null,
   "metadata": {},
   "outputs": [],
   "source": []
  },
  {
   "cell_type": "code",
   "execution_count": null,
   "metadata": {
    "collapsed": true
   },
   "outputs": [],
   "source": []
  },
  {
   "cell_type": "code",
   "execution_count": null,
   "metadata": {
    "collapsed": true
   },
   "outputs": [],
   "source": []
  }
 ],
 "metadata": {
  "anaconda-cloud": {},
  "kernelspec": {
   "display_name": "Python 3",
   "language": "python",
   "name": "python3"
  },
  "language_info": {
   "codemirror_mode": {
    "name": "ipython",
    "version": 3
   },
   "file_extension": ".py",
   "mimetype": "text/x-python",
   "name": "python",
   "nbconvert_exporter": "python",
   "pygments_lexer": "ipython3",
   "version": "3.6.5"
  }
 },
 "nbformat": 4,
 "nbformat_minor": 1
}
